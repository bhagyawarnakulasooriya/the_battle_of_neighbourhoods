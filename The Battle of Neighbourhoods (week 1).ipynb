{
 "cells": [
  {
   "cell_type": "markdown",
   "metadata": {},
   "source": [
    "# The Battle of Neighbourhoods"
   ]
  },
  {
   "cell_type": "markdown",
   "metadata": {},
   "source": [
    "## Introduction"
   ]
  },
  {
   "cell_type": "markdown",
   "metadata": {},
   "source": [
    "Politics is a blend of the government, political parties and the politicians of a country.  As stated by Winston Churchill, \"Politics is not a game, but a serious business\". \n",
    "\n",
    "Political parties have both long term and short term plans, when preparing for their propaganda. They consider various factors such as average income per person, natural resources distribution, religious distribution and employment distribution in each area for an insightful planning. They take the advantage of each factor when appointing candidates for an area, organizing meetings, workshops, other volunteer work etc. \n",
    "\n",
    "My project focuses on the religious distribution of the towns in Australia which helps the future campaigns of a political party. What I do here is clustering the towns based on the most common religions."
   ]
  },
  {
   "cell_type": "markdown",
   "metadata": {},
   "source": [
    "## Data"
   ]
  },
  {
   "cell_type": "markdown",
   "metadata": {},
   "source": [
    "Information on all Australian towns were downloaded as a csv file from https://www.australiantownslist.com. This includes geographical data (latitude and longitude coordinates), name, state, postal code, type(whether it is urban or a suburb), population, median income, area etc. Only the suburbs were considered. Popular Foursquare was used to grab the religious places around 2km of each town. "
   ]
  },
  {
   "cell_type": "code",
   "execution_count": null,
   "metadata": {},
   "outputs": [],
   "source": []
  }
 ],
 "metadata": {
  "kernelspec": {
   "display_name": "Python 3",
   "language": "python",
   "name": "python3"
  },
  "language_info": {
   "codemirror_mode": {
    "name": "ipython",
    "version": 3
   },
   "file_extension": ".py",
   "mimetype": "text/x-python",
   "name": "python",
   "nbconvert_exporter": "python",
   "pygments_lexer": "ipython3",
   "version": "3.8.5"
  }
 },
 "nbformat": 4,
 "nbformat_minor": 4
}
